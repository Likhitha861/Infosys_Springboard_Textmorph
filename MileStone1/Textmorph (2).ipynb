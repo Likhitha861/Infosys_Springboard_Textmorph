{
 "cells": [
  {
   "cell_type": "markdown",
   "metadata": {
    "id": "RMm3yZQnrz5r"
   },
   "source": [
    "#Text Summarization:\n",
    "Text summarization is the process of condensing a longer piece of text into a shorter version, capturing only the main ideas and essential information while omitting details and examples. The goal is to provide a brief overview of the original content.\n",
    "Example: Summarizing a 10-page article into a one-paragraph summary.\n",
    "\n",
    "#Text Paraphrasing:\n",
    "Text paraphrasing is the process of rewriting a text in different words and sentence structures while retaining the original meaning. The length of the text may remain similar, but the wording is changed to improve clarity, avoid plagiarism, or suit a different context.\n",
    "Example: Rewriting a sentence like “The cat sat on the mat” to “The mat was occupied by the cat.”"
   ]
  },
  {
   "cell_type": "markdown",
   "metadata": {
    "id": "6Zqk932osHkg"
   },
   "source": [
    "#Session Setup\n",
    "Let's get our environment ready by installing and importing the necessary libraries.\n"
   ]
  },
  {
   "cell_type": "code",
   "execution_count": null,
   "metadata": {
    "colab": {
     "base_uri": "https://localhost:8080/"
    },
    "id": "Mk3lX5VdsQL-",
    "outputId": "d91c0cb7-984c-447f-e1d0-41d1bd7bf03d"
   },
   "outputs": [
    {
     "name": "stdout",
     "output_type": "stream",
     "text": [
      "✅ Libraries installed.\n",
      "✅ Libraries imported successfully.\n"
     ]
    }
   ],
   "source": [
    "#@title 0.1: Install and Import Libraries\n",
    "# Install the required libraries quietly.\n",
    "!pip install transformers sentencepiece --quiet\n",
    "print(\"✅ Libraries installed.\")\n",
    "\n",
    "# Import the necessary classes from the transformers library.\n",
    "from transformers import T5ForConditionalGeneration, T5Tokenizer\n",
    "from transformers import PegasusForConditionalGeneration, PegasusTokenizer\n",
    "# 'textwrap' is a great tool for formatting our output nicely.\n",
    "import textwrap\n",
    "print(\"✅ Libraries imported successfully.\")"
   ]
  },
  {
   "cell_type": "markdown",
   "metadata": {
    "id": "zPBCdQGBsul0"
   },
   "source": [
    "#Extractive Summarization:\n",
    "Extractive summarization works by selecting important sentences, phrases, or paragraphs directly from the original text and combining them to create a summary. It does not generate new words or phrases, just extracts the key content.\n",
    "Example: Picking the top 3 sentences from an article that convey the main points.\n",
    "\n",
    "#Abstractive Summarization:\n",
    "Abstractive summarization generates a summary by rephrasing and interpreting the original text, possibly using new words or sentences. It aims to capture the core meaning in a concise and natural way, similar to how a human would summarize.\n",
    "Example: Reading a paragraph about climate change and writing a new sentence like “Global warming is causing significant environmental changes.”"
   ]
  },
  {
   "cell_type": "code",
   "execution_count": null,
   "metadata": {
    "colab": {
     "base_uri": "https://localhost:8080/",
     "height": 336,
     "referenced_widgets": [
      "c735ae1a12e94071bcff82ca561adedd",
      "6d25188e8e06410f8ce184a4d5d94f80",
      "9f21dfc7035e481bb12412b73df11c4f",
      "35a85538ec394c61b8ee73c2e706f236",
      "2d2af5a0a6e5411984bb4f8e6a8b63e5",
      "ddeec7506b3c4cfeb45e2635f563fc94",
      "76052534c6a44c1384498fa8cf76dddf",
      "0da994818b724dcda02492372868511a",
      "4f15d53b5afe4f74abcb9969697c198c",
      "8ba391b1a5ad464b8846cf6bbdb1b4e4",
      "7eb29d263e364eee8986ae720a801e82",
      "b7e6ac55aa874ceba21368e00509c619",
      "efa59b6344914cb286ca83754e9e3056",
      "fc64355d02704d6a8235868e7b8a5fed",
      "b99bf573c0c74b4faeb98bcf42a4c734",
      "ce5a6d7438eb4bf1ad885a5c52e50d3a",
      "8881424f41544182884c78fe590ca2c5",
      "d6b11df6141c475b80ae97529662e453",
      "1a460607a1a3489f8725ba54b01cc074",
      "2a5cfd4bf2e94c94986f3f54a20b51e1",
      "29bf88ed9da94833bf639682f4dd9f33",
      "dc3eed2bcebd4c0abb8bb1cbb9b523d8",
      "cc0bee49532a4a71b3c0dc1121128150",
      "b3ed29486bba4bff9cb37fb6242ab1c9",
      "31f99f5819ee4c159c1d0d455874804a",
      "bbfece1c639546b996bd92a337fa742c",
      "f83c6c45f9f6405185ccaa2e450614bb",
      "ef0ccf171463490d9fffbc66219ac4dd",
      "b9dcd29f4f0846d78174c019269d9736",
      "b65aed3c66c647149079918e5b124663",
      "ebeb5287dc1c4329bd1d4af7d1d5b970",
      "2aa524b5c0864b55b36e7d1df4bb6044",
      "3f0cb5864ce64a46b038b2ba36b2287b",
      "c9811e56b3c549b9b02004cd6f20e3a8",
      "ce7a71a4d15448388b5822a978f1ab4c",
      "d49b77c802134763bd24f9872013dbe0",
      "5ddd0eb9557c4edeb668de761f8f83f2",
      "7e90e4ad87744a9a842de09155a26e2f",
      "89439333e05f4dd0b53d498456c8c89b",
      "ae422a5221ee4f478a73f5290789a558",
      "24f9660991d14b23bd993170f8dad75d",
      "7f7a7a821e9b4f7bacce84abbd21c6d4",
      "9015b92d280a4900a90a8c0dba40c4e6",
      "b36ed1cd96b248bb94a77930f9df7a88",
      "0cdf2ada9e6d4eb298b82a4e35608915",
      "bcf9b68aadc64998b96985927b563b1d",
      "9f7760b686e54345b25cc5fe9add9fcb",
      "c8365609681c4ec89a12cb07e353b584",
      "04caf609f5184656a9d8f62fdaf9a721",
      "c9a1f565a1bd482ca50504ece65b422a",
      "6c3b9f30d7f54bdcbbcde879d4b3acf1",
      "9549321eccea488fa98b8a3c946686ca",
      "0bc11fcd61be43e89cbfebe7bbf15332",
      "ec7f25c5708a4e2aaf267f660283a1f7",
      "ee86d2e42853422c9325eb45b5ba8afe"
     ]
    },
    "id": "xnY_85J0sxE3",
    "outputId": "920af5fd-3bf9-4271-e664-ee670c50ece5"
   },
   "outputs": [
    {
     "name": "stderr",
     "output_type": "stream",
     "text": [
      "/usr/local/lib/python3.12/dist-packages/huggingface_hub/utils/_auth.py:94: UserWarning: \n",
      "The secret `HF_TOKEN` does not exist in your Colab secrets.\n",
      "To authenticate with the Hugging Face Hub, create a token in your settings tab (https://huggingface.co/settings/tokens), set it as secret in your Google Colab and restart your session.\n",
      "You will be able to reuse this secret in all of your notebooks.\n",
      "Please note that authentication is recommended but still optional to access public models or datasets.\n",
      "  warnings.warn(\n"
     ]
    },
    {
     "data": {
      "application/vnd.jupyter.widget-view+json": {
       "model_id": "c735ae1a12e94071bcff82ca561adedd",
       "version_major": 2,
       "version_minor": 0
      },
      "text/plain": [
       "spiece.model:   0%|          | 0.00/792k [00:00<?, ?B/s]"
      ]
     },
     "metadata": {},
     "output_type": "display_data"
    },
    {
     "data": {
      "application/vnd.jupyter.widget-view+json": {
       "model_id": "b7e6ac55aa874ceba21368e00509c619",
       "version_major": 2,
       "version_minor": 0
      },
      "text/plain": [
       "tokenizer.json:   0%|          | 0.00/1.39M [00:00<?, ?B/s]"
      ]
     },
     "metadata": {},
     "output_type": "display_data"
    },
    {
     "data": {
      "application/vnd.jupyter.widget-view+json": {
       "model_id": "cc0bee49532a4a71b3c0dc1121128150",
       "version_major": 2,
       "version_minor": 0
      },
      "text/plain": [
       "config.json:   0%|          | 0.00/1.21k [00:00<?, ?B/s]"
      ]
     },
     "metadata": {},
     "output_type": "display_data"
    },
    {
     "name": "stderr",
     "output_type": "stream",
     "text": [
      "You are using the default legacy behaviour of the <class 'transformers.models.t5.tokenization_t5.T5Tokenizer'>. This is expected, and simply means that the `legacy` (previous) behavior will be used so nothing changes for you. If you want to use the new behaviour, set `legacy=False`. This should only be set if you understand what it means, and thoroughly read the reason why this was added as explained in https://github.com/huggingface/transformers/pull/24565\n"
     ]
    },
    {
     "data": {
      "application/vnd.jupyter.widget-view+json": {
       "model_id": "c9811e56b3c549b9b02004cd6f20e3a8",
       "version_major": 2,
       "version_minor": 0
      },
      "text/plain": [
       "model.safetensors:   0%|          | 0.00/892M [00:00<?, ?B/s]"
      ]
     },
     "metadata": {},
     "output_type": "display_data"
    },
    {
     "data": {
      "application/vnd.jupyter.widget-view+json": {
       "model_id": "0cdf2ada9e6d4eb298b82a4e35608915",
       "version_major": 2,
       "version_minor": 0
      },
      "text/plain": [
       "generation_config.json:   0%|          | 0.00/147 [00:00<?, ?B/s]"
      ]
     },
     "metadata": {},
     "output_type": "display_data"
    },
    {
     "name": "stdout",
     "output_type": "stream",
     "text": [
      "✅ T5 Model ('t5-base') is loaded and ready!\n"
     ]
    }
   ],
   "source": [
    "#@title 1.2: Load the T5 Model and Tokenizer\n",
    "# The model name we'll be using.\n",
    "t5_model_name = 't5-base'\n",
    "\n",
    "# The Tokenizer is responsible for converting text into a format the model understands.\n",
    "t5_tokenizer = T5Tokenizer.from_pretrained(t5_model_name)\n",
    "\n",
    "# The Model is the pre-trained AI that performs the summarization.\n",
    "t5_model = T5ForConditionalGeneration.from_pretrained(t5_model_name)\n",
    "\n",
    "print(f\"✅ T5 Model ('{t5_model_name}') is loaded and ready!\")"
   ]
  },
  {
   "cell_type": "markdown",
   "metadata": {
    "id": "ODVgsxHwtZ79"
   },
   "source": [
    "#The Summarizer Function\n",
    "This is our core function. We're adding a new parameter, no_repeat_ngram_size, to prevent the model from repeating the same phrases."
   ]
  },
  {
   "cell_type": "code",
   "execution_count": null,
   "metadata": {
    "id": "jguF8DhUtbEw"
   },
   "outputs": [],
   "source": [
    "#@title 1.3: Define the Core Summarizer Function\n",
    "def generate_summary(text, min_len=40, max_len=120, beams=4):\n",
    "    \"\"\"\n",
    "    Generates a high-quality abstractive summary for a given text using the T5 model.\n",
    "    \"\"\"\n",
    "    # T5 models require a \"summarize: \" prefix to know which task to perform.\n",
    "    input_text = \"summarize: \" + text.strip().replace(\"\\n\", \" \")\n",
    "\n",
    "    # Tokenize the text, ensuring it's not too long for the model.\n",
    "    inputs = t5_tokenizer.encode(input_text, return_tensors='pt', max_length=1024, truncation=True)\n",
    "\n",
    "    # Generate the summary using our specified parameters.\n",
    "    summary_ids = t5_model.generate(\n",
    "        inputs,\n",
    "        max_length=max_len,\n",
    "        min_length=min_len,\n",
    "        num_beams=beams,\n",
    "        no_repeat_ngram_size=3, # Prevents repeating phrases of 3 words.\n",
    "        length_penalty=2.0,\n",
    "        early_stopping=True\n",
    "    )\n",
    "\n",
    "    # Decode the result back into human-readable text.\n",
    "    summary = t5_tokenizer.decode(summary_ids[0], skip_special_tokens=True)\n",
    "    return summary"
   ]
  },
  {
   "cell_type": "markdown",
   "metadata": {
    "id": "T2p3eay-tisY"
   },
   "source": [
    "#Code Examples with Diverse Texts\n",
    "Let's test our summarizer on different styles of writing to see how it performs."
   ]
  },
  {
   "cell_type": "code",
   "execution_count": null,
   "metadata": {
    "colab": {
     "base_uri": "https://localhost:8080/"
    },
    "id": "Ixeh1uRNtjyU",
    "outputId": "163c9383-d2e7-42b8-ac10-56998a50511b"
   },
   "outputs": [
    {
     "name": "stdout",
     "output_type": "stream",
     "text": [
      "\n",
      "----------- ORIGINAL TEXT: input1.txt -----------\n",
      "Artificial Intelligence (AI) has emerged as one of the most transformative technologies of the 21st\n",
      "century. Over the past decade, its rapid evolution has reshaped industries, economies, and daily\n",
      "life in ways that were once confined to science fiction. From virtual assistants on smartphones to\n",
      "recommendation algorithms on streaming platforms, AI is now embedded into the very fabric of our\n",
      "digital experience. Its potential continues to grow as advances in machine learning, natural\n",
      "language processing, and computer vision unlock new applications across healthcare, education,\n",
      "finance, and beyond.  In conclusion, Artificial Intelligence stands at a crossroads of opportunity\n",
      "and responsibility. It has the potential to revolutionize human life for the better, but only if\n",
      "guided by thoughtful governance and ethical practices. The choices made today will determine whether\n",
      "AI becomes a tool for empowerment and equity or a source of division and harm. The story of AI is\n",
      "still being written, and it is one that involves all of us.\n",
      "\n",
      "✨---------- SUMMARY (input1.txt) -----------✨\n",
      "artificial intelligence (AI) has emerged as one of the most transformative technologies of the 21st\n",
      "century . it has reshaped industries, economies, and daily life in ways that were once confined to\n",
      "science fiction . artificial intelligence\n",
      "\n",
      "----------- ORIGINAL TEXT: input2.txt -----------\n",
      "Climate change has become one of the most pressing challenges of our era, reshaping ecosystems,\n",
      "economies, and human societies across the globe. Driven primarily by the burning of fossil fuels,\n",
      "deforestation, and industrial activities, greenhouse gas emissions are trapping heat in the\n",
      "atmosphere and causing global temperatures to rise. The consequences of this warming are profound,\n",
      "affecting weather patterns, sea levels, biodiversity, and human livelihoods.  In conclusion, climate\n",
      "change represents not just an environmental issue but a moral and existential one. The decisions\n",
      "humanity makes in the coming decades will determine the trajectory of our planet for centuries to\n",
      "come. By acting decisively and collectively, there remains hope to mitigate the worst impacts and\n",
      "build a future that is resilient, equitable, and sustainable for generations to come.\n",
      "\n",
      "✨---------- SUMMARY (input2.txt) -----------✨\n",
      "climate change has become one of the most pressing challenges of our era . climate change represents\n",
      "not just an environmental issue but a moral and existential one . by acting decisively and\n",
      "collectively, there remains hope to mitigate the worst\n"
     ]
    }
   ],
   "source": [
    "#@title 1.4.1: Example 1\n",
    "import textwrap\n",
    "\n",
    "# List of your text files\n",
    "file_paths = [\"input1.txt\", \"input2.txt\"]  # add more files as needed\n",
    "\n",
    "for file_path in file_paths:\n",
    "    # Read the file\n",
    "    text = read_text(file_path)\n",
    "\n",
    "    # Generate summary (adjust min_len and max_len as needed)\n",
    "    summary = generate_summary(text, min_len=25, max_len=50)\n",
    "\n",
    "    # Display results\n",
    "    print(f\"\\n----------- ORIGINAL TEXT: {file_path} -----------\")\n",
    "    print(textwrap.fill(text, width=100))\n",
    "    print(f\"\\n✨---------- SUMMARY ({file_path}) -----------✨\")\n",
    "    print(textwrap.fill(summary, width=100))\n"
   ]
  },
  {
   "cell_type": "code",
   "execution_count": null,
   "metadata": {
    "colab": {
     "base_uri": "https://localhost:8080/"
    },
    "id": "hwpjKrD8uMJi",
    "outputId": "59dfbcc9-d15d-404c-d32f-42945ef0993f"
   },
   "outputs": [
    {
     "name": "stdout",
     "output_type": "stream",
     "text": [
      "\n",
      "----------- ORIGINAL TEXT: input1.txt -----------\n",
      "Artificial Intelligence (AI) has emerged as one of the most transformative technologies of the 21st\n",
      "century. Over the past decade, its rapid evolution has reshaped industries, economies, and daily\n",
      "life in ways that were once confined to science fiction. From virtual assistants on smartphones to\n",
      "recommendation algorithms on streaming platforms, AI is now embedded into the very fabric of our\n",
      "digital experience. Its potential continues to grow as advances in machine learning, natural\n",
      "language processing, and computer vision unlock new applications across healthcare, education,\n",
      "finance, and beyond.  In conclusion, Artificial Intelligence stands at a crossroads of opportunity\n",
      "and responsibility. It has the potential to revolutionize human life for the better, but only if\n",
      "guided by thoughtful governance and ethical practices. The choices made today will determine whether\n",
      "AI becomes a tool for empowerment and equity or a source of division and harm. The story of AI is\n",
      "still being written, and it is one that involves all of us.\n",
      "\n",
      "✨---------- SUMMARY (input1.txt) -----------✨\n",
      "artificial intelligence (AI) has emerged as one of the most transformative technologies of the 21st\n",
      "century . it has reshaped industries, economies, and daily life in ways that were once confined to\n",
      "science fiction . the choices made today will determine whether AI becomes a tool for empowerment\n",
      "and equity .\n",
      "\n",
      "----------- ORIGINAL TEXT: input2.txt -----------\n",
      "Climate change has become one of the most pressing challenges of our era, reshaping ecosystems,\n",
      "economies, and human societies across the globe. Driven primarily by the burning of fossil fuels,\n",
      "deforestation, and industrial activities, greenhouse gas emissions are trapping heat in the\n",
      "atmosphere and causing global temperatures to rise. The consequences of this warming are profound,\n",
      "affecting weather patterns, sea levels, biodiversity, and human livelihoods.  In conclusion, climate\n",
      "change represents not just an environmental issue but a moral and existential one. The decisions\n",
      "humanity makes in the coming decades will determine the trajectory of our planet for centuries to\n",
      "come. By acting decisively and collectively, there remains hope to mitigate the worst impacts and\n",
      "build a future that is resilient, equitable, and sustainable for generations to come.\n",
      "\n",
      "✨---------- SUMMARY (input2.txt) -----------✨\n",
      "climate change has become one of the most pressing challenges of our era . climate change represents\n",
      "not just an environmental issue but a moral and existential one . by acting decisively and\n",
      "collectively, there remains hope to mitigate the worst impacts .\n"
     ]
    }
   ],
   "source": [
    "#@title 1.4.2: Example 2\n",
    "import textwrap\n",
    "\n",
    "# List of your text files\n",
    "file_paths = [\"input1.txt\", \"input2.txt\"]  # add your files here\n",
    "\n",
    "for file_path in file_paths:\n",
    "    # Read the text from the file\n",
    "    text = read_text(file_path)\n",
    "\n",
    "    # Generate summary using your summarization model\n",
    "    summary = generate_summary(text, min_len=30, max_len=90)\n",
    "\n",
    "    # Display original text and summary\n",
    "    print(f\"\\n----------- ORIGINAL TEXT: {file_path} -----------\")\n",
    "    print(textwrap.fill(text, width=100))\n",
    "    print(f\"\\n✨---------- SUMMARY ({file_path}) -----------✨\")\n",
    "    print(textwrap.fill(summary, width=100))\n"
   ]
  },
  {
   "cell_type": "markdown",
   "metadata": {
    "id": "jQPEJBDKuzuC"
   },
   "source": [
    "#The Interactive Summarizer Studio\n",
    "Now it's your turn! Paste your own text, experiment with the settings, and see how you can craft the perfect summary."
   ]
  },
  {
   "cell_type": "code",
   "execution_count": null,
   "metadata": {
    "colab": {
     "base_uri": "https://localhost:8080/"
    },
    "id": "SLwSg0m_u00O",
    "outputId": "1d7b3c09-d139-4b68-f7ef-cd604c1b8c30"
   },
   "outputs": [
    {
     "name": "stdout",
     "output_type": "stream",
     "text": [
      "\n",
      "----------- ORIGINAL TEXT: input1.txt -----------\n",
      "Artificial Intelligence (AI) has emerged as one of the most transformative technologies of the 21st\n",
      "century. Over the past decade, its rapid evolution has reshaped industries, economies, and daily\n",
      "life in ways that were once confined to science fiction. From virtual assistants on smartphones to\n",
      "recommendation algorithms on streaming platforms, AI is now embedded into the very fabric of our\n",
      "digital experience. Its potential continues to grow as advances in machine learning, natural\n",
      "language processing, and computer vision unlock new applications across healthcare, education,\n",
      "finance, and beyond.  In conclusion, Artificial Intelligence stands at a crossroads of opportunity\n",
      "and responsibility. It has the potential to revolutionize human life for the better, but only if\n",
      "guided by thoughtful governance and ethical practices. The choices made today will determine whether\n",
      "AI becomes a tool for empowerment and equity or a source of division and harm. The story of AI is\n",
      "still being written, and it is one that involves all of us.\n",
      "\n",
      "✨---------- GENERATED SUMMARY (input1.txt) -----------✨\n",
      "artificial intelligence (AI) has emerged as one of the most transformative technologies of the 21st\n",
      "century . it has reshaped industries, economies, and daily life in ways that were once confined to\n",
      "science fiction . the choices made today will determine whether AI becomes a tool for empowerment\n",
      "and equity .\n",
      "\n",
      "📊---------- ANALYSIS (input1.txt) -----------📊\n",
      "Original Word Count: 159\n",
      "Summary Word Count: 51\n",
      "Text Reduction: 67.9%\n",
      "\n",
      "----------- ORIGINAL TEXT: input2.txt -----------\n",
      "Climate change has become one of the most pressing challenges of our era, reshaping ecosystems,\n",
      "economies, and human societies across the globe. Driven primarily by the burning of fossil fuels,\n",
      "deforestation, and industrial activities, greenhouse gas emissions are trapping heat in the\n",
      "atmosphere and causing global temperatures to rise. The consequences of this warming are profound,\n",
      "affecting weather patterns, sea levels, biodiversity, and human livelihoods.  In conclusion, climate\n",
      "change represents not just an environmental issue but a moral and existential one. The decisions\n",
      "humanity makes in the coming decades will determine the trajectory of our planet for centuries to\n",
      "come. By acting decisively and collectively, there remains hope to mitigate the worst impacts and\n",
      "build a future that is resilient, equitable, and sustainable for generations to come.\n",
      "\n",
      "✨---------- GENERATED SUMMARY (input2.txt) -----------✨\n",
      "climate change has become one of the most pressing challenges of our era . climate change represents\n",
      "not just an environmental issue but a moral and existential one . by acting decisively and\n",
      "collectively, there remains hope to mitigate the worst impacts .\n",
      "\n",
      "📊---------- ANALYSIS (input2.txt) -----------📊\n",
      "Original Word Count: 127\n",
      "Summary Word Count: 43\n",
      "Text Reduction: 66.1%\n"
     ]
    }
   ],
   "source": [
    "#@title 1.5: Your Interactive Summarizer Studio! ⚡️\n",
    "\n",
    "import textwrap\n",
    "\n",
    "# List of your text files\n",
    "file_paths = [\"input1.txt\", \"input2.txt\"]  # add your files here\n",
    "\n",
    "# Summarization parameters\n",
    "min_length = 45\n",
    "max_length = 140\n",
    "num_beams = 5\n",
    "\n",
    "for file_path in file_paths:\n",
    "    # Read the text from the file\n",
    "    text = read_text(file_path)\n",
    "\n",
    "    # Generate summary\n",
    "    generated_summary = generate_summary(\n",
    "        text,\n",
    "        min_len=min_length,\n",
    "        max_len=max_length,\n",
    "        beams=num_beams\n",
    "    )\n",
    "\n",
    "    # Compute basic analysis\n",
    "    original_word_count = len(text.split())\n",
    "    summary_word_count = len(generated_summary.split())\n",
    "    reduction = 100 - (summary_word_count / original_word_count * 100)\n",
    "\n",
    "    # Display results\n",
    "    print(f\"\\n----------- ORIGINAL TEXT: {file_path} -----------\")\n",
    "    print(textwrap.fill(text, width=100))\n",
    "\n",
    "    print(f\"\\n✨---------- GENERATED SUMMARY ({file_path}) -----------✨\")\n",
    "    print(textwrap.fill(generated_summary, width=100))\n",
    "\n",
    "    print(f\"\\n📊---------- ANALYSIS ({file_path}) -----------📊\")\n",
    "    print(f\"Original Word Count: {original_word_count}\")\n",
    "    print(f\"Summary Word Count: {summary_word_count}\")\n",
    "    print(f\"Text Reduction: {reduction:.1f}%\")\n"
   ]
  },
  {
   "cell_type": "code",
   "execution_count": null,
   "metadata": {
    "colab": {
     "base_uri": "https://localhost:8080/"
    },
    "id": "zkmq1YQHv6M9",
    "outputId": "aae70909-5914-4283-a4d6-cd2e462765e8"
   },
   "outputs": [
    {
     "name": "stdout",
     "output_type": "stream",
     "text": [
      "✅ Libraries installed.\n"
     ]
    }
   ],
   "source": [
    "!pip install transformers sentencepiece sentence-transformers scikit-learn matplotlib pandas --quiet\n",
    "print(\"✅ Libraries installed.\")"
   ]
  },
  {
   "cell_type": "markdown",
   "metadata": {
    "id": "W8_qyDY3wBBb"
   },
   "source": [
    "#Importing Libraries"
   ]
  },
  {
   "cell_type": "code",
   "execution_count": null,
   "metadata": {
    "colab": {
     "base_uri": "https://localhost:8080/"
    },
    "id": "6vCNLlPHwAir",
    "outputId": "9a74daf1-35e4-4624-a836-d140c3c332dc"
   },
   "outputs": [
    {
     "name": "stdout",
     "output_type": "stream",
     "text": [
      "✅ Libraries imported.\n"
     ]
    }
   ],
   "source": [
    "import matplotlib.pyplot as plt\n",
    "from collections import Counter\n",
    "import textwrap\n",
    "import re\n",
    "import requests\n",
    "import ssl\n",
    "from transformers import T5ForConditionalGeneration, T5Tokenizer\n",
    "from transformers import BartForConditionalGeneration, BartTokenizer\n",
    "from transformers import PegasusForConditionalGeneration, PegasusTokenizer\n",
    "from sentence_transformers import SentenceTransformer\n",
    "from sklearn.metrics.pairwise import cosine_similarity\n",
    "\n",
    "# Handle SSL for file downloads\n",
    "try:\n",
    "    _create_unverified_https_context = ssl._create_unverified_context\n",
    "except AttributeError:\n",
    "    pass\n",
    "else:\n",
    "    ssl._create_default_https_context = _create_unverified_https_context\n",
    "\n",
    "print(\"✅ Libraries imported.\")"
   ]
  },
  {
   "cell_type": "markdown",
   "metadata": {
    "id": "17C7s8CMwPCQ"
   },
   "source": [
    "#Load T5, BART, and PEGASUS for summarization."
   ]
  },
  {
   "cell_type": "code",
   "execution_count": null,
   "metadata": {
    "colab": {
     "base_uri": "https://localhost:8080/",
     "height": 505,
     "referenced_widgets": [
      "eb363ae410334100853848c675bb8bc2",
      "fec96bda9a7a46f4a8e8762be6267db7",
      "3c778f06aa1743269450aa9756f7684c",
      "6738127c9923465eb80c8e2188645379",
      "5efadfc8d6bd4b36896a28b238f17c80",
      "8f87454a9aef49ba8a76639991aaba6c",
      "b5bb1fc782bd411686b0e3215545a073",
      "2372a704e9bc4345b660edfd226994d8",
      "94381715bd2b4a918b43f4757f0c9e97",
      "5ab8eac7e0854106879d54567ab4f765",
      "9e818ee4bbd040ccab8f45558e07892f",
      "a3589403a20843258178c5c316b43e90",
      "21099b99658643cca257f62f7a85aef6",
      "904bbb3b9a3c4740b0d421ed14bfb54b",
      "d711f709e88c4d4486c8e6a5ff8f9567",
      "bf1a46a537844ed682323d9870a995f4",
      "240945010fea46d39aeb8aaf356d9a79",
      "7863a3b504ab49d1a274f932f740cfa3",
      "4257f74f6f8542f8bde0b73c36703bb2",
      "5f4cc76411874034988845acb3f8705c",
      "dc908cde6d2c4f52977e0153939f9d65",
      "67265d9341434d948caa59dcaf77e783",
      "ac80c250342e4bc98dfb7e09d15e3cbb",
      "78395eb32d554dbbac2199dfc8476c22",
      "0b3da4c1a70a4e59a829f9bddbdc0ff1",
      "95653713ced64f19a09edbbfed851c3a",
      "3ba8fe1b8a3948a4879b05db42616289",
      "5a8034225f22488ba2422d79913a4d5c",
      "e5677e9155f44fb58bf31e00e0cf003c",
      "65d4be345d444927b272c3ddfa93272c",
      "769c34a7a097446eb629e46aab210d50",
      "d7f289378b0844f58e95034dc228f706",
      "32819606adf942ab92747f59924e256e",
      "e92d9a8a16574625845ccc2937bfe6d0",
      "e11d3c4ca60842b8801b7ac1562e778c",
      "db33d9e4983f49daae6ef1c0610c540a",
      "c0d8e5ff00f644a7864bd4516ce262d7",
      "102f43234140476bae87d2c9fa737d9d",
      "cfc9208b0ff5407e9a06d63f250af492",
      "834ef63a458f4581a0d4411936b3695d",
      "fe184f7d707b430bad9aeef12fb1b551",
      "6dd26a3f9d704426bd5411a4ff548732",
      "cce8a20ab6bf45768024bcf67165ecaa",
      "c4f84d4637ef4269b07236657044726f",
      "72c03ee6def643e7baeb5959ed893ca2",
      "adfd9bb7ec3b4414a2eae74bfee20d42",
      "67b754f2bcd74ee1ac9636a457c5cc04",
      "4e24379561e34cb98d5efa156f4380e9",
      "da045ec3bfda43f4ae460d25aa21d552",
      "c2d0367015394258bfd3563e3a9f5a56",
      "2b428f498c7d4020a46498383599d17e",
      "062a4ec445e24cd9a0f07c9cd47e95a8",
      "414839dc115a43a994fdf8e13df92978",
      "078c89a9dce048fba5e7b7bba90abb89",
      "2290ce354f6a439cacf775328191d354",
      "4bcebdef8b6a45efb56e60dce05d1bba",
      "366a690c0fa044f1aeb18750ce137a1a",
      "a256fb5cee094feeaf079857f9fad1c2",
      "894b061b414d4b8bb55d6079735d7555",
      "1d403aec9d6741d3b05cb48adb1b4377",
      "e2e426721c9b424bb23580d382de009e",
      "325420e8a200420dae42753738fd2cdd",
      "8bbb9f47d78d4dbf8cdd8913e1022c57",
      "f105c63c42524dd8a36eacf63ccf919c",
      "814f9530ec364b5abe1004d446412bcc",
      "a053b9162db74519b4a9ef9385cace84",
      "5d4a0d124380440f93e29ea12361d508",
      "c9644655eb824bcf8a8f5f0cfa1ebc7f",
      "631ad82ab9c54435a57170fd81c99772",
      "81473280d1e242a9bbdbb53809a0af1c",
      "c4fe2632e07e4d569ba2567425d3cd8f",
      "a0b35fc848554cc8a01996723e9383f9",
      "68e86e645ed24c8988d47b5f7df8cd16",
      "7a3adcd5051d44549e017c7bbff9ea30",
      "d1004a4f63f74d739f634de9d5742e43",
      "0023c1f533b14264b70cd4f7b34a35a4",
      "14fa1da7d8004181a94787b098747569",
      "3e046054e80e48f1a262ca00ae3919b5",
      "69d44e503b0944cc97ebe32fde09bbf4",
      "3300f4134e514a25937b806b924415fd",
      "a7e15f94f4de41738c7baa181bcb382c",
      "6bbb93c6e8bc49d58e15060143708431",
      "fb50dc9c4cf14b8cb8c19c613cb329e9",
      "467e20dfb63e4a4587f6485c8bd80bd0",
      "a6ef38a1797741fb9f68eb2704545094",
      "e4cf56bc24144659858ebae12f8d2a81",
      "991a4638749b4a3b8be992c04b70bd65",
      "d951398e8b48493baf3c764f472254d3",
      "46b1ba7a2e5a444db7f018cab0cd78f2",
      "9d866569b06741c4a2d2a5ffdf4a4c5c",
      "4ace48d5a6a24adbba15bc41278b4361",
      "97f3b3c177d24bcd889399390a393da1",
      "100ad259abf1422996e7378855bb90dc",
      "0936edc9ee9f4a4996af411912cf7a7d",
      "ecf0ac43e1e744ca9173f0369cace518",
      "260a7f877534470692045274f2252b78",
      "276e61aa3f924903bf18503878b87f02",
      "99c34a4e41e345e18e985f2f24554d21",
      "1ddfcf268c2c46e0882a62eae62cebc1",
      "56fb2c8055214263bba243d3c31dccad",
      "3704a9f32b904c1082dec3abeaa67470",
      "2055076c766e441790ac406ca45af207",
      "9786b4328c8d4e958c92ea4848c0b4e0",
      "39d11aaedd8a4e80b32d98e7f6fc5750",
      "33171adcc7614acbb4b53be61f3af048",
      "96d1e993b5d84a2494da200584974006",
      "8c60d3d29f3a45759992279c6c57d829",
      "ff0a6df0615d4be7aa8a940b9c7fbd44",
      "057c86329bb84e5ab88675a1fbb68c20",
      "527965a1559f4488b4057c488965ea5b",
      "71e2da8e62d14154b1f8c4771314db86",
      "a29b4bb6372042feb9475fa97e70b06c",
      "742ea406c6b84057b8657ec66432fa5d",
      "778aa0f538fa45c88f78862de0016760",
      "0bb073d62452415688802529d5ef1509",
      "dc1ee6e14639443681931de69de66795",
      "d136cb39067241b7b8b3e12515e92091",
      "74468f8f31924db99c518d6b80ecf5e9",
      "9f7a64ac587046c5bfb4a518a752379e",
      "14aaaa8897d14bf1aa49ee75d03aa994",
      "bc81c7a85e5c411e84f3bcf924009e0e",
      "5c553aab915243a1a60121d4d2645dea",
      "ecd08a4831cb45f4ba8fd45e34ab6a70",
      "00a1d602cf3041c0b16255251cfad5e1",
      "115ad8b1612e48b2a171d21f9d452d53",
      "495dd4ca8290439283340e6e8be40df8",
      "757bbcbc8c4a43d59a2658e04208a70c",
      "59bdfbff8bab45ba8640e082d3e9ce6d",
      "1a0ed3e4b71f437b95ea652bc93e00ee",
      "3dd223f71074491ca0f8821b6b5b33a7",
      "0371f5cb14cc48928a58fd808085b87e",
      "4826332051fb421f91b22d4fe63b0c86",
      "5c1d103f38c0446490e0b52308024c7b",
      "f3b72b71af3249c2ae8c4e46e582e8a4",
      "170aee43c9ef45ebbce364d6a9a953bb",
      "8218a2151e6a4881b309f011b232bf13",
      "9d6e6aa253ec445faae6d30846e66ea5",
      "0e96f4a95a594d968342e67b641be133",
      "824f57144fa7478b9e9997585c70360e",
      "18e79ec1048444cca1d8320f477d6568",
      "d0fa0f84b8d14a2cb6e3d2338420e127",
      "41a8fe1e57454bda8e78aab665d5c70e",
      "e8240405440443df875acaa9bd4ccae2"
     ]
    },
    "id": "cc-VlRALwQan",
    "outputId": "6d7c6de1-e91e-4c0c-b083-ef76967f20fc"
   },
   "outputs": [
    {
     "data": {
      "application/vnd.jupyter.widget-view+json": {
       "model_id": "eb363ae410334100853848c675bb8bc2",
       "version_major": 2,
       "version_minor": 0
      },
      "text/plain": [
       "vocab.json: 0.00B [00:00, ?B/s]"
      ]
     },
     "metadata": {},
     "output_type": "display_data"
    },
    {
     "data": {
      "application/vnd.jupyter.widget-view+json": {
       "model_id": "a3589403a20843258178c5c316b43e90",
       "version_major": 2,
       "version_minor": 0
      },
      "text/plain": [
       "merges.txt: 0.00B [00:00, ?B/s]"
      ]
     },
     "metadata": {},
     "output_type": "display_data"
    },
    {
     "data": {
      "application/vnd.jupyter.widget-view+json": {
       "model_id": "ac80c250342e4bc98dfb7e09d15e3cbb",
       "version_major": 2,
       "version_minor": 0
      },
      "text/plain": [
       "tokenizer.json: 0.00B [00:00, ?B/s]"
      ]
     },
     "metadata": {},
     "output_type": "display_data"
    },
    {
     "data": {
      "application/vnd.jupyter.widget-view+json": {
       "model_id": "e92d9a8a16574625845ccc2937bfe6d0",
       "version_major": 2,
       "version_minor": 0
      },
      "text/plain": [
       "config.json: 0.00B [00:00, ?B/s]"
      ]
     },
     "metadata": {},
     "output_type": "display_data"
    },
    {
     "data": {
      "application/vnd.jupyter.widget-view+json": {
       "model_id": "72c03ee6def643e7baeb5959ed893ca2",
       "version_major": 2,
       "version_minor": 0
      },
      "text/plain": [
       "model.safetensors:   0%|          | 0.00/558M [00:00<?, ?B/s]"
      ]
     },
     "metadata": {},
     "output_type": "display_data"
    },
    {
     "data": {
      "application/vnd.jupyter.widget-view+json": {
       "model_id": "4bcebdef8b6a45efb56e60dce05d1bba",
       "version_major": 2,
       "version_minor": 0
      },
      "text/plain": [
       "tokenizer_config.json:   0%|          | 0.00/87.0 [00:00<?, ?B/s]"
      ]
     },
     "metadata": {},
     "output_type": "display_data"
    },
    {
     "data": {
      "application/vnd.jupyter.widget-view+json": {
       "model_id": "5d4a0d124380440f93e29ea12361d508",
       "version_major": 2,
       "version_minor": 0
      },
      "text/plain": [
       "spiece.model:   0%|          | 0.00/1.91M [00:00<?, ?B/s]"
      ]
     },
     "metadata": {},
     "output_type": "display_data"
    },
    {
     "data": {
      "application/vnd.jupyter.widget-view+json": {
       "model_id": "3e046054e80e48f1a262ca00ae3919b5",
       "version_major": 2,
       "version_minor": 0
      },
      "text/plain": [
       "special_tokens_map.json:   0%|          | 0.00/65.0 [00:00<?, ?B/s]"
      ]
     },
     "metadata": {},
     "output_type": "display_data"
    },
    {
     "data": {
      "application/vnd.jupyter.widget-view+json": {
       "model_id": "46b1ba7a2e5a444db7f018cab0cd78f2",
       "version_major": 2,
       "version_minor": 0
      },
      "text/plain": [
       "tokenizer.json: 0.00B [00:00, ?B/s]"
      ]
     },
     "metadata": {},
     "output_type": "display_data"
    },
    {
     "data": {
      "application/vnd.jupyter.widget-view+json": {
       "model_id": "56fb2c8055214263bba243d3c31dccad",
       "version_major": 2,
       "version_minor": 0
      },
      "text/plain": [
       "config.json: 0.00B [00:00, ?B/s]"
      ]
     },
     "metadata": {},
     "output_type": "display_data"
    },
    {
     "data": {
      "application/vnd.jupyter.widget-view+json": {
       "model_id": "71e2da8e62d14154b1f8c4771314db86",
       "version_major": 2,
       "version_minor": 0
      },
      "text/plain": [
       "pytorch_model.bin:   0%|          | 0.00/2.28G [00:00<?, ?B/s]"
      ]
     },
     "metadata": {},
     "output_type": "display_data"
    },
    {
     "data": {
      "application/vnd.jupyter.widget-view+json": {
       "model_id": "5c553aab915243a1a60121d4d2645dea",
       "version_major": 2,
       "version_minor": 0
      },
      "text/plain": [
       "model.safetensors:   0%|          | 0.00/2.28G [00:00<?, ?B/s]"
      ]
     },
     "metadata": {},
     "output_type": "display_data"
    },
    {
     "name": "stderr",
     "output_type": "stream",
     "text": [
      "Some weights of PegasusForConditionalGeneration were not initialized from the model checkpoint at google/pegasus-xsum and are newly initialized: ['model.decoder.embed_positions.weight', 'model.encoder.embed_positions.weight']\n",
      "You should probably TRAIN this model on a down-stream task to be able to use it for predictions and inference.\n"
     ]
    },
    {
     "data": {
      "application/vnd.jupyter.widget-view+json": {
       "model_id": "5c1d103f38c0446490e0b52308024c7b",
       "version_major": 2,
       "version_minor": 0
      },
      "text/plain": [
       "generation_config.json:   0%|          | 0.00/259 [00:00<?, ?B/s]"
      ]
     },
     "metadata": {},
     "output_type": "display_data"
    },
    {
     "name": "stdout",
     "output_type": "stream",
     "text": [
      "✅ Summarization models loaded: T5, BART, PEGASUS.\n"
     ]
    }
   ],
   "source": [
    "t5_tokenizer = T5Tokenizer.from_pretrained('t5-base')\n",
    "t5_model = T5ForConditionalGeneration.from_pretrained('t5-base')\n",
    "bart_tokenizer = BartTokenizer.from_pretrained('facebook/bart-base')\n",
    "bart_model = BartForConditionalGeneration.from_pretrained('facebook/bart-base')\n",
    "pegasus_sum_tokenizer = PegasusTokenizer.from_pretrained('google/pegasus-xsum')\n",
    "pegasus_sum_model = PegasusForConditionalGeneration.from_pretrained('google/pegasus-xsum')\n",
    "print(\"✅ Summarization models loaded: T5, BART, PEGASUS.\")"
   ]
  },
  {
   "cell_type": "markdown",
   "metadata": {
    "id": "vz5yXqfUwoMd"
   },
   "source": [
    "#T5 Summarization\n",
    "T5 (Text-to-Text Transfer Transformer) is a transformer model that frames all NLP tasks, including summarization, as text-to-text problems. For summarization, it generates concise, natural-language summaries by rephrasing and condensing the original text rather than simply extracting sentences. This makes T5 a powerful and flexible model for various tasks like translation, question answering, and text classification."
   ]
  },
  {
   "cell_type": "code",
   "execution_count": null,
   "metadata": {
    "id": "bMIN48KLwris"
   },
   "outputs": [],
   "source": [
    "def generate_t5_summary(text, min_len=40, max_len=150, beams=4):\n",
    "    \"\"\"Abstractive summarization with T5.\"\"\"\n",
    "    input_text = \"summarize: \" + text.strip().replace(\"\\n\", \" \")\n",
    "    inputs = t5_tokenizer.encode(input_text, return_tensors='pt', max_length=1024, truncation=True)\n",
    "    summary_ids = t5_model.generate(\n",
    "        inputs,\n",
    "        max_length=max_len,\n",
    "        min_length=min_len,\n",
    "        num_beams=beams,\n",
    "        no_repeat_ngram_size=3,\n",
    "        length_penalty=2.0,\n",
    "        early_stopping=True\n",
    "    )\n",
    "    return t5_tokenizer.decode(summary_ids[0], skip_special_tokens=True)"
   ]
  },
  {
   "cell_type": "code",
   "execution_count": null,
   "metadata": {
    "id": "5mFfgw62wz2G"
   },
   "outputs": [],
   "source": [
    "def clean_text(text):\n",
    "    \"\"\"Remove special characters and normalize whitespace.\"\"\"\n",
    "    text = re.sub(r'[^\\x00-\\x7F]+', ' ', text)  # Remove non-ASCII characters\n",
    "    text = re.sub(r'\\s+', ' ', text)  # Normalize whitespace\n",
    "    return text.strip()"
   ]
  },
  {
   "cell_type": "markdown",
   "metadata": {
    "id": "QINp3qTgvmj1"
   },
   "source": [
    "#BART Summarization\n",
    "BART (Bidirectional and Auto-Regressive Transformers) is a powerful sequence-to-sequence transformer model designed for tasks like abstractive summarization. It combines the bidirectional encoding of BERT with the autoregressive decoding of GPT, allowing it to understand the full context of the input text and generate concise, fluent summaries in natural language. Unlike extractive methods that select sentences directly from the text, BART can rephrase and create new sentences while preserving the original meaning, making it effective for summarizing complex or lengthy documents. It is widely used in NLP tasks such as summarization, translation, and text generation due to its versatility and high performance."
   ]
  },
  {
   "cell_type": "code",
   "execution_count": null,
   "metadata": {
    "id": "0eH_OzM-vqUq"
   },
   "outputs": [],
   "source": [
    "def generate_bart_summary(text, min_len=40, max_len=150, beams=4):\n",
    "    \"\"\"Abstractive summarization with BART.\"\"\"\n",
    "    inputs = bart_tokenizer.encode(text, return_tensors='pt', max_length=1024, truncation=True)\n",
    "    summary_ids = bart_model.generate(\n",
    "        inputs,\n",
    "        max_length=max_len,\n",
    "        min_length=min_len,\n",
    "        num_beams=beams,\n",
    "        no_repeat_ngram_size=3,\n",
    "        length_penalty=2.0,\n",
    "        early_stopping=True\n",
    "    )\n",
    "    return bart_tokenizer.decode(summary_ids[0], skip_special_tokens=True)"
   ]
  },
  {
   "cell_type": "markdown",
   "metadata": {
    "id": "pyrdMJEnxD9c"
   },
   "source": [
    "#PEGASUS Summarization\n",
    "PEGASUS is a transformer-based model designed for abstractive summarization, pre-trained by predicting masked “gap” sentences to learn how to generate coherent summaries. It produces concise and fluent summaries by understanding the context and meaning of the original text rather than simply extracting sentences."
   ]
  },
  {
   "cell_type": "code",
   "execution_count": null,
   "metadata": {
    "id": "d_c-8_YlxHxK"
   },
   "outputs": [],
   "source": [
    "def generate_pegasus_summary(text, min_len=40, max_len=150, beams=4):\n",
    "    \"\"\"Abstractive summarization with PEGASUS.\"\"\"\n",
    "    # Clean and truncate input to prevent tokenization issues\n",
    "    text = clean_text(text[:1500])  # Stricter truncation to 1500 chars\n",
    "    try:\n",
    "        inputs = pegasus_sum_tokenizer.encode(\n",
    "            text,\n",
    "            return_tensors='pt',\n",
    "            max_length=512,  # Reduced max_length for safety\n",
    "            truncation=True,\n",
    "            padding='max_length'  # Ensure consistent input size\n",
    "        )\n",
    "        # Validate token IDs\n",
    "        if inputs.max().item() >= pegasus_sum_tokenizer.vocab_size:\n",
    "            raise ValueError(f\"Token ID {inputs.max().item()} exceeds vocab size {pegasus_sum_tokenizer.vocab_size}.\")\n",
    "        summary_ids = pegasus_sum_model.generate(\n",
    "            inputs,\n",
    "            max_length=max_len,\n",
    "            min_length=min_len,\n",
    "            num_beams=beams,\n",
    "            no_repeat_ngram_size=3,\n",
    "            length_penalty=2.0,\n",
    "            early_stopping=True\n",
    "        )\n",
    "        return pegasus_sum_tokenizer.decode(summary_ids[0], skip_special_tokens=True)\n",
    "    except Exception as e:\n",
    "        print(f\"PEGASUS summarization failed: {e}\")\n",
    "        return \"Summary unavailable due to processing error.\""
   ]
  },
  {
   "cell_type": "markdown",
   "metadata": {
    "id": "dpKIzG7Dxm2g"
   },
   "source": [
    "#PARAPHRASING\n",
    "Paraphrasing is the process of rewording or rephrasing text while preserving its original meaning. It is often used to improve clarity, simplify complex sentences, or avoid plagiarism. Paraphrasing can involve changing words, sentence structures, or the overall style of the text. Unlike summarization, it does not reduce the length of the content significantly but focuses on expressing the same ideas in a different way."
   ]
  },
  {
   "cell_type": "code",
   "execution_count": null,
   "metadata": {
    "colab": {
     "base_uri": "https://localhost:8080/",
     "height": 281,
     "referenced_widgets": [
      "cbff96b4f83249388a05b221af529628",
      "36380472848f4f39986f5d642641f938",
      "3e1ec6bf09194a1b8d334c66ad9d7acb",
      "a900dbc434b64a12919cccc66d5c1d5b",
      "dc8a698ef23347ce938cd6101b068508",
      "cf45bc7501ab4db19c3d7d0a5ef542f1",
      "2ad62c83ffdd4c9ab6f35eb897409075",
      "4d8274195f524f6991f994c47fce7768",
      "40a3cbb369334874b7e9738ba4852d5e",
      "9fe6c30194a0470d8da572617d1f24c2",
      "a981cc68c2794eb6ae8b68b9090273fe",
      "d35b1e6a01184e6e87f4c662f8793d0c",
      "246c1a48602743a8b00093776bb5e231",
      "9c0bfbbb15534906ab621204a5c68db9",
      "e2b709cf79a84320ba54cc84e273e0f2",
      "53eacfa8a5864976907f12fe3fa2b6eb",
      "7bd2ab2e1c3b42feb6f72065f9f673cb",
      "9c00332facd243e98c168a8b8fab2f4a",
      "e87dac01126e4972b12a1d172193c11a",
      "88414b32a54d4d7da50edd2f32f8eddd",
      "f94975f3f47247fea6c13b8475770357",
      "b82505050ad142cc9cf60a702f8b4f3a",
      "497a261c9e1d4bfe8943324e209ef741",
      "4fd9a245b8dd426d9facd4638cf78f11",
      "81fc8325b0d4484aa590e1b7c54378e2",
      "3c9d6ce5a726490bb2092ff7467aded8",
      "acaeb7e088b74b98a963b5d5635ecc7a",
      "7a406d4c0a9b44239450bb7d5520c5f8",
      "f38147b082ca4d1397f2d191a83af950",
      "582b5112d84a48828fe8045d7afe89c3",
      "25770c339a6f4fe192a0080af9f5c99f",
      "8c599f49e6b34e57809bb41221a48d12",
      "24244cd8679645b8900a912b6e6b2fcf",
      "f0041a817d984a3b8826547eaf813aa3",
      "0ec15259e6984d19af32396299f641fe",
      "282139b9a4ba41e9b1776d934a9dfef2",
      "80111e036c8f4339991ddc6c2f5dfb29",
      "479cc8396e9643478d486d738d26093f",
      "32042feb8dbe4c758b06a91b27b90b74",
      "861f6ca3ff76461c9053ad3ee014b481",
      "2d979263de7d463bbc44ae85a31b73a8",
      "f24442ed564d4cd09e304c1b433a353c",
      "7b7eb36376eb4304b89a55f1ca0e6840",
      "4db236c498264ce98cdac4a4f9c6cf6a",
      "31e225baf9554e7a932b534817c62f37",
      "d162c8f1cd3549619a2ee956185f6b40",
      "6f3e0a92ec29416faca1d3ddd6cfb833",
      "57f924e05a7047efa9af19cc366561a5",
      "095c98de496b4f4fa2350220de142611",
      "3caa048aeab6473082110bfd6d3c0fe6",
      "9a482a6db54f415781d7c28e337e5b19",
      "5946998ea0cb492f96ae5f6b1b2db634",
      "4ccf419e56684bb9ba729341d21494de",
      "8ef6c23140d444328fa3080254fe5490",
      "908cceca1a7c46e0bc48773bf01a5064",
      "2b798cac4f12452bab323ba4b90c0cf2",
      "0c77037fdbf94c0dab6ac501aef3d93f",
      "72bb3ba31c6747b49cd70b02cfd8bb3c",
      "bdfbf2f6f9da4affb2bcf4d62c8a8c74",
      "2de90da97ec543f58f5ec4d35f823b5f",
      "096cdc545fb84aed914f3eeb2922d118",
      "61703cfdb7c3483a8c41c8a61a846a0a",
      "0eca8bce3a854db89695b46975a62788",
      "4311699d875447c4b85c112db7e89b35",
      "fa75ffeb622446c694bc652897327574",
      "26af54dd77bb40d3877b9be7399972a3"
     ]
    },
    "id": "X8oq2s-fzB6M",
    "outputId": "e510a351-6b78-46fb-f92c-f4a47a5f877a"
   },
   "outputs": [
    {
     "data": {
      "application/vnd.jupyter.widget-view+json": {
       "model_id": "cbff96b4f83249388a05b221af529628",
       "version_major": 2,
       "version_minor": 0
      },
      "text/plain": [
       "tokenizer_config.json:   0%|          | 0.00/86.0 [00:00<?, ?B/s]"
      ]
     },
     "metadata": {},
     "output_type": "display_data"
    },
    {
     "data": {
      "application/vnd.jupyter.widget-view+json": {
       "model_id": "d35b1e6a01184e6e87f4c662f8793d0c",
       "version_major": 2,
       "version_minor": 0
      },
      "text/plain": [
       "spiece.model:   0%|          | 0.00/1.91M [00:00<?, ?B/s]"
      ]
     },
     "metadata": {},
     "output_type": "display_data"
    },
    {
     "data": {
      "application/vnd.jupyter.widget-view+json": {
       "model_id": "497a261c9e1d4bfe8943324e209ef741",
       "version_major": 2,
       "version_minor": 0
      },
      "text/plain": [
       "special_tokens_map.json:   0%|          | 0.00/65.0 [00:00<?, ?B/s]"
      ]
     },
     "metadata": {},
     "output_type": "display_data"
    },
    {
     "data": {
      "application/vnd.jupyter.widget-view+json": {
       "model_id": "f0041a817d984a3b8826547eaf813aa3",
       "version_major": 2,
       "version_minor": 0
      },
      "text/plain": [
       "config.json: 0.00B [00:00, ?B/s]"
      ]
     },
     "metadata": {},
     "output_type": "display_data"
    },
    {
     "data": {
      "application/vnd.jupyter.widget-view+json": {
       "model_id": "31e225baf9554e7a932b534817c62f37",
       "version_major": 2,
       "version_minor": 0
      },
      "text/plain": [
       "pytorch_model.bin:   0%|          | 0.00/2.28G [00:00<?, ?B/s]"
      ]
     },
     "metadata": {},
     "output_type": "display_data"
    },
    {
     "data": {
      "application/vnd.jupyter.widget-view+json": {
       "model_id": "2b798cac4f12452bab323ba4b90c0cf2",
       "version_major": 2,
       "version_minor": 0
      },
      "text/plain": [
       "model.safetensors:   0%|          | 0.00/2.28G [00:00<?, ?B/s]"
      ]
     },
     "metadata": {},
     "output_type": "display_data"
    },
    {
     "name": "stderr",
     "output_type": "stream",
     "text": [
      "Some weights of PegasusForConditionalGeneration were not initialized from the model checkpoint at tuner007/pegasus_paraphrase and are newly initialized: ['model.decoder.embed_positions.weight', 'model.encoder.embed_positions.weight']\n",
      "You should probably TRAIN this model on a down-stream task to be able to use it for predictions and inference.\n"
     ]
    },
    {
     "name": "stdout",
     "output_type": "stream",
     "text": [
      "✅ PEGASUS Model ('tuner007/pegasus_paraphrase') is loaded and ready!\n"
     ]
    }
   ],
   "source": [
    "#@title  Load the PEGASUS Model and Tokenizer\n",
    "paraphrase_model_name = 'tuner007/pegasus_paraphrase'\n",
    "\n",
    "pegasus_tokenizer = PegasusTokenizer.from_pretrained(paraphrase_model_name)\n",
    "pegasus_model = PegasusForConditionalGeneration.from_pretrained(paraphrase_model_name)\n",
    "\n",
    "print(f\"✅ PEGASUS Model ('{paraphrase_model_name}') is loaded and ready!\")"
   ]
  },
  {
   "cell_type": "code",
   "execution_count": null,
   "metadata": {
    "id": "4GUZCbXkyj_c"
   },
   "outputs": [],
   "source": [
    "#@title  Define the Core Paraphraser Function\n",
    "def generate_paraphrases(text, num_return=5, beams=10):\n",
    "    \"\"\"\n",
    "    Generates multiple high-quality paraphrases for a given text using the PEGASUS model.\n",
    "    \"\"\"\n",
    "    # Tokenize the input text.\n",
    "    inputs = pegasus_tokenizer.encode(text, return_tensors='pt', truncation=True)\n",
    "\n",
    "    # Generate the paraphrases using beam search.\n",
    "    paraphrase_ids = pegasus_model.generate(\n",
    "        inputs,\n",
    "        max_length=60,\n",
    "        num_beams=beams,\n",
    "        num_return_sequences=num_return,\n",
    "        early_stopping=True\n",
    "    )\n",
    "\n",
    "    # Decode the results back into text.\n",
    "    paraphrases = pegasus_tokenizer.batch_decode(paraphrase_ids, skip_special_tokens=True)\n",
    "    return paraphrases"
   ]
  },
  {
   "cell_type": "markdown",
   "metadata": {
    "id": "D27OoH2Eyxi-"
   },
   "source": [
    "#Code Examples with Diverse Sentences"
   ]
  },
  {
   "cell_type": "code",
   "execution_count": null,
   "metadata": {
    "colab": {
     "base_uri": "https://localhost:8080/",
     "height": 662
    },
    "id": "GbqOq1ssy0e-",
    "outputId": "979fa0c7-b1ae-47d2-db2d-ccb20b1d1123"
   },
   "outputs": [
    {
     "name": "stdout",
     "output_type": "stream",
     "text": [
      "\n",
      "----------- ORIGINAL TEXT: input1.txt -----------\n",
      "Artificial Intelligence (AI) has emerged as one of the most transformative technologies of the 21st\n",
      "century. Over the past decade, its rapid evolution has reshaped industries, economies, and daily\n",
      "life in ways that were once confined to science fiction. From virtual assistants on smartphones to\n",
      "recommendation algorithms on streaming platforms, AI is now embedded into the very fabric of our\n",
      "digital experience. Its potential continues to grow as advances in machine learning, natural\n",
      "language processing, and computer vision unlock new applications across healthcare, education,\n",
      "finance, and beyond.  In conclusion, Artificial Intelligence stands at a crossroads of opportunity\n",
      "and responsibility. It has the potential to revolutionize human life for the better, but only if\n",
      "guided by thoughtful governance and ethical practices. The choices made today will determine whether\n",
      "AI becomes a tool for empowerment and equity or a source of division and harm. The story of AI is\n",
      "still being written, and it is one that involves all of us.\n",
      "\n",
      "🤖---------- PEGASUS PARAPHRASES (input1.txt) ----------🤖\n",
      "  1. Artificial Intelligence has changed industries, economies, and daily life in ways that were once confined to science fiction.\n",
      "  2. Artificial Intelligence has changed industries, economies, and daily life in ways that were once restricted to science fiction.\n",
      "  3. Artificial Intelligence has changed industries, economies, and daily life in ways that were once confined to science fiction over the past decade.\n",
      "  4. Artificial Intelligence has changed industries, economies, and daily life in ways that were once limited to science fiction.\n",
      "\n",
      "----------- ORIGINAL TEXT: input2.txt -----------\n",
      "Climate change has become one of the most pressing challenges of our era, reshaping ecosystems,\n",
      "economies, and human societies across the globe. Driven primarily by the burning of fossil fuels,\n",
      "deforestation, and industrial activities, greenhouse gas emissions are trapping heat in the\n",
      "atmosphere and causing global temperatures to rise. The consequences of this warming are profound,\n",
      "affecting weather patterns, sea levels, biodiversity, and human livelihoods.  In conclusion, climate\n",
      "change represents not just an environmental issue but a moral and existential one. The decisions\n",
      "humanity makes in the coming decades will determine the trajectory of our planet for centuries to\n",
      "come. By acting decisively and collectively, there remains hope to mitigate the worst impacts and\n",
      "build a future that is resilient, equitable, and sustainable for generations to come.\n",
      "\n",
      "🤖---------- PEGASUS PARAPHRASES (input2.txt) ----------🤖\n",
      "  1. Greenhouse gas emissions are trapping heat in the atmosphere and causing global temperatures to rise.\n",
      "  2. Climate change has become one of the most pressing challenges of our era because of the burning of fossil fuels and other industrial activities.\n",
      "  3. Climate change has become one of the most pressing challenges of our era and is caused by the burning of fossil fuels and industrial activities.\n",
      "  4. Climate change has become one of the most pressing challenges of our era due to the burning of fossil fuels and other industrial activities.\n"
     ]
    }
   ],
   "source": [
    "# List of your text files\n",
    "file_paths = [\"input1.txt\", \"input2.txt\"]  # add your files here\n",
    "\n",
    "# Number of paraphrases to generate\n",
    "num_paraphrases = 4\n",
    "\n",
    "for file_path in file_paths:\n",
    "    # Read the text from the file\n",
    "    text = read_text(file_path)\n",
    "\n",
    "    # Generate paraphrases\n",
    "    paraphrases = generate_paraphrases(text, num_return=num_paraphrases)\n",
    "\n",
    "    # Display results\n",
    "    print(f\"\\n----------- ORIGINAL TEXT: {file_path} -----------\")\n",
    "    print(textwrap.fill(text, width=100))\n",
    "\n",
    "    print(f\"\\n🤖---------- PEGASUS PARAPHRASES ({file_path}) ----------🤖\")\n",
    "    for i, p in enumerate(paraphrases):\n",
    "        print(f\"  {i+1}. {p}\")\n"
   ]
  },
  {
   "cell_type": "markdown",
   "metadata": {
    "id": "CLTRASnXx2dx"
   },
   "source": [
    "#PEGASUS Paraphrasing\n",
    "PEGASUS, while primarily built for abstractive summarization, can be adapted for paraphrasing by generating context-aware rewrites of text. Its pre-training on gap-sentence prediction enables it to produce fluent and natural paraphrases that preserve the original meaning."
   ]
  },
  {
   "cell_type": "code",
   "execution_count": null,
   "metadata": {
    "id": "ypUgu0LWxrY4"
   },
   "outputs": [],
   "source": [
    "def generate_pegasus_paraphrase(text, num_return=3, beams=10):\n",
    "    \"\"\"Generate paraphrases with PEGASUS.\"\"\"\n",
    "    inputs = pegasus_para_tokenizer.encode(text, return_tensors='pt', truncation=True, max_length=60)\n",
    "    paraphrase_ids = pegasus_para_model.generate(\n",
    "        inputs,\n",
    "        max_length=60,\n",
    "        num_beams=beams,\n",
    "        num_return_sequences=num_return,\n",
    "        early_stopping=True\n",
    "    )\n",
    "    return pegasus_para_tokenizer.batch_decode(paraphrase_ids, skip_special_tokens=True)"
   ]
  },
  {
   "cell_type": "markdown",
   "metadata": {
    "id": "oO0JLGe0yGiH"
   },
   "source": [
    "#T5 Paraphrasing\n",
    "T5 can be used for paraphrasing by treating it as a text-to-text task, where the input sentence is transformed into a reworded version with the same meaning. Its ability to understand context and generate coherent language allows it to produce natural and accurate paraphrases."
   ]
  },
  {
   "cell_type": "code",
   "execution_count": null,
   "metadata": {
    "id": "iL0bCep7yJkp"
   },
   "outputs": [],
   "source": [
    "def generate_t5_paraphrase(text, num_return=3, beams=10):\n",
    "    \"\"\"Generate paraphrases with T5-Paraphrase.\"\"\"\n",
    "    input_text = f\"paraphrase: {text} </s>\"\n",
    "    inputs = paraphrase_t5_tokenizer.encode(input_text, return_tensors='pt', max_length=512, truncation=True)\n",
    "    paraphrase_ids = paraphrase_t5_model.generate(\n",
    "        inputs,\n",
    "        max_length=60,\n",
    "        num_beams=beams,\n",
    "        num_return_sequences=num_return,\n",
    "        early_stopping=True\n",
    "    )\n",
    "    return paraphrase_t5_tokenizer.batch_decode(paraphrase_ids, skip_special_tokens=True)"
   ]
  },
  {
   "cell_type": "markdown",
   "metadata": {
    "id": "5LXLHnmtyMwb"
   },
   "source": [
    "#BART Paraphrasing\n",
    "BART can be used for paraphrasing by generating reworded versions of input text while preserving the original meaning. Its encoder-decoder architecture allows it to understand context and produce fluent, coherent, and natural-sounding paraphrases."
   ]
  },
  {
   "cell_type": "code",
   "execution_count": null,
   "metadata": {
    "id": "MgTQn8jjyU_A"
   },
   "outputs": [],
   "source": [
    "def generate_bart_paraphrase(text, num_return=3, beams=10):\n",
    "    \"\"\"Generate paraphrases with BART-Paraphrase.\"\"\"\n",
    "    inputs = paraphrase_bart_tokenizer.encode(text, return_tensors='pt', truncation=True, max_length=60)\n",
    "    paraphrase_ids = paraphrase_bart_model.generate(\n",
    "        inputs,\n",
    "        max_length=60,\n",
    "        num_beams=beams,\n",
    "        num_return_sequences=num_return,\n",
    "        early_stopping=True\n",
    "    )\n",
    "    return paraphrase_bart_tokenizer.batch_decode(paraphrase_ids, skip_special_tokens=True)"
   ]
  },
  {
   "cell_type": "markdown",
   "metadata": {
    "id": "Ivyyf_VU1JWG"
   },
   "source": [
    "#Enhanced Model Comparison\n",
    "#Summary Length Analysis\n",
    "Compute summary length."
   ]
  },
  {
   "cell_type": "code",
   "execution_count": null,
   "metadata": {
    "id": "pSUUyQn31NIR"
   },
   "outputs": [],
   "source": [
    "def analyze_summary_length(summary):\n",
    "    \"\"\"Compute word count of summary.\"\"\"\n",
    "    return len(summary.split())  # Simple split instead of NLTK tokenization"
   ]
  },
  {
   "cell_type": "markdown",
   "metadata": {
    "id": "VN27nboY1QKV"
   },
   "source": [
    "#Similarity to Original\n",
    "Compute similarity to original text."
   ]
  },
  {
   "cell_type": "code",
   "execution_count": null,
   "metadata": {
    "id": "jSsGpXl91TQm"
   },
   "outputs": [],
   "source": [
    "def similarity_to_original(summary, original_text):\n",
    "    \"\"\"Compute similarity between summary and original.\"\"\"\n",
    "    return compute_similarity(summary, original_text[:2000])"
   ]
  },
  {
   "cell_type": "markdown",
   "metadata": {
    "id": "pTFbNjB31YLj"
   },
   "source": [
    "#Enhanced Summarization Comparison\n",
    "Compare T5, BART, and PEGASUS for summarization."
   ]
  },
  {
   "cell_type": "code",
   "execution_count": null,
   "metadata": {
    "id": "AdTrJGI61Zrv"
   },
   "outputs": [],
   "source": [
    "def compare_summarizers_enhanced(text, min_len=40, max_len=150, beams=4):\n",
    "    \"\"\"Enhanced comparison of T5, BART, and PEGASUS for summarization.\"\"\"\n",
    "    t5_sum = generate_t5_summary(text[:2000], min_len, max_len, beams)\n",
    "    bart_sum = generate_bart_summary(text[:2000], min_len, max_len, beams)\n",
    "    pegasus_sum = generate_pegasus_summary(text[:2000], min_len, max_len, beams)\n",
    "\n",
    "    metrics = {\n",
    "        't5': {\n",
    "            'summary': t5_sum,\n",
    "            'length': analyze_summary_length(t5_sum),\n",
    "            'sim_to_original': similarity_to_original(t5_sum, text)\n",
    "        },\n",
    "        'bart': {\n",
    "            'summary': bart_sum,\n",
    "            'length': analyze_summary_length(bart_sum),\n",
    "            'sim_to_original': similarity_to_original(bart_sum, text)\n",
    "        },\n",
    "        'pegasus': {\n",
    "            'summary': pegasus_sum,\n",
    "            'length': analyze_summary_length(pegasus_sum),\n",
    "            'sim_to_original': similarity_to_original(pegasus_sum, text)\n",
    "        },\n",
    "        'sim_t5_bart': compute_similarity(t5_sum, bart_sum),\n",
    "        'sim_t5_pegasus': compute_similarity(t5_sum, pegasus_sum),\n",
    "        'sim_bart_pegasus': compute_similarity(bart_sum, pegasus_sum)\n",
    "    }\n",
    "\n",
    "    print(\"----------- Enhanced Summarization Comparison -----------\")\n",
    "    print(f\"T5 Summary (Length: {metrics['t5']['length']}, Sim to Original: {metrics['t5']['sim_to_original']:.3f}):\")\n",
    "    print(textwrap.fill(t5_sum, width=100))\n",
    "    print(f\"\\nBART Summary (Length: {metrics['bart']['length']}, Sim to Original: {metrics['bart']['sim_to_original']:.3f}):\")\n",
    "    print(textwrap.fill(bart_sum, width=100))\n",
    "    print(f\"\\nPEGASUS Summary (Length: {metrics['pegasus']['length']}, Sim to Original: {metrics['pegasus']['sim_to_original']:.3f}):\")\n",
    "    print(textwrap.fill(pegasus_sum, width=100))\n",
    "    print(f\"\\nSimilarity T5 vs BART: {metrics['sim_t5_bart']:.3f}\")\n",
    "    print(f\"Similarity T5 vs PEGASUS: {metrics['sim_t5_pegasus']:.3f}\")\n",
    "    print(f\"Similarity BART vs PEGASUS: {metrics['sim_bart_pegasus']:.3f}\")\n",
    "\n",
    "    return metrics"
   ]
  },
  {
   "cell_type": "markdown",
   "metadata": {
    "id": "xcq1vBIJ1gsu"
   },
   "source": [
    "#Enhanced Paraphrasing Comparison\n",
    "Compare PEGASUS, T5-Paraphrase, and BART-Paraphrase."
   ]
  },
  {
   "cell_type": "code",
   "execution_count": null,
   "metadata": {
    "id": "hqvYgx861h4n"
   },
   "outputs": [],
   "source": [
    "def compare_paraphrasers_enhanced(text, num_return=3, beams=10):\n",
    "    \"\"\"Enhanced comparison of PEGASUS, T5-Paraphrase, and BART-Paraphrase.\"\"\"\n",
    "    peg_paras = generate_pegasus_paraphrase(text, num_return, beams)\n",
    "    t5_paras = generate_t5_paraphrase(text, num_return, beams)\n",
    "    bart_paras = generate_bart_paraphrase(text, num_return, beams)\n",
    "\n",
    "    metrics = {\n",
    "        'pegasus': {\n",
    "            'paraphrases': peg_paras,\n",
    "            'avg_length': sum(len(p.split()) for p in peg_paras) / len(peg_paras),\n",
    "            'avg_sim_to_original': sum(compute_similarity(p, text) for p in peg_paras) / len(peg_paras)\n",
    "        },\n",
    "        't5_paraphrase': {\n",
    "            'paraphrases': t5_paras,\n",
    "            'avg_length': sum(len(p.split()) for p in t5_paras) / len(t5_paras),\n",
    "            'avg_sim_to_original': sum(compute_similarity(p, text) for p in t5_paras) / len(t5_paras)\n",
    "        },\n",
    "        'bart_paraphrase': {\n",
    "            'paraphrases': bart_paras,\n",
    "            'avg_length': sum(len(p.split()) for p in bart_paras) / len(bart_paras),\n",
    "            'avg_sim_to_original': sum(compute_similarity(p, text) for p in bart_paras) / len(bart_paras)\n",
    "        },\n",
    "        'avg_sim_peg_t5': sum(compute_similarity(peg_paras[i], t5_paras[i]) for i in range(num_return)) / num_return,\n",
    "        'avg_sim_peg_bart': sum(compute_similarity(peg_paras[i], bart_paras[i]) for i in range(num_return)) / num_return,\n",
    "        'avg_sim_t5_bart': sum(compute_similarity(t5_paras[i], bart_paras[i]) for i in range(num_return)) / num_return\n",
    "    }\n",
    "\n",
    "    print(\"----------- Enhanced Paraphrasing Comparison -----------\")\n",
    "    print(f\"PEGASUS Paraphrases (Avg Length: {metrics['pegasus']['avg_length']:.1f}, Avg Sim to Original: {metrics['pegasus']['avg_sim_to_original']:.3f}):\")\n",
    "    for i, p in enumerate(peg_paras, 1):\n",
    "        print(f\"  {i}. {p}\")\n",
    "    print(f\"\\nT5-Paraphrase Paraphrases (Avg Length: {metrics['t5_paraphrase']['avg_length']:.1f}, Avg Sim to Original: {metrics['t5_paraphrase']['avg_sim_to_original']:.3f}):\")\n",
    "    for i, p in enumerate(t5_paras, 1):\n",
    "        print(f\"  {i}. {p}\")\n",
    "    print(f\"\\nBART-Paraphrase Paraphrases (Avg Length: {metrics['bart_paraphrase']['avg_length']:.1f}, Avg Sim to Original: {metrics['bart_paraphrase']['avg_sim_to_original']:.3f}):\")\n",
    "    for i, p in enumerate(bart_paras, 1):\n",
    "        print(f\"  {i}. {p}\")\n",
    "    print(f\"\\nAverage Similarity PEGASUS vs T5-Paraphrase: {metrics['avg_sim_peg_t5']:.3f}\")\n",
    "    print(f\"Average Similarity PEGASUS vs BART-Paraphrase: {metrics['avg_sim_peg_bart']:.3f}\")\n",
    "    print(f\"Average Similarity T5-Paraphrase vs BART-Paraphrase: {metrics['avg_sim_t5_bart']:.3f}\")\n",
    "\n",
    "    return metrics"
   ]
  },
  {
   "cell_type": "markdown",
   "metadata": {
    "id": "eYOIjFO32Ya2"
   },
   "source": [
    "#Integrated TextMorph Pipeline\n",
    "#Pipeline Initialization\n",
    "Initialize the pipeline class."
   ]
  },
  {
   "cell_type": "code",
   "execution_count": null,
   "metadata": {
    "id": "KE6bW_6H2bbB"
   },
   "outputs": [],
   "source": [
    "class TextMorphPipeline:\n",
    "    \"\"\"Streamlined TextMorph pipeline for text files, no preprocessing or NLP.\"\"\"\n",
    "\n",
    "    def __init__(self):\n",
    "        self.reference_texts = []\n",
    "\n",
    "    def add_reference(self, text):\n",
    "        \"\"\"Add reference text for similarity.\"\"\"\n",
    "        self.reference_texts.append(text)"
   ]
  },
  {
   "cell_type": "markdown",
   "metadata": {
    "id": "cfNFOI8e2gsa"
   },
   "source": [
    "#Pipeline Summarization Step\n",
    "Summarize in pipeline."
   ]
  },
  {
   "cell_type": "code",
   "execution_count": null,
   "metadata": {
    "id": "583rzABE2h0u"
   },
   "outputs": [],
   "source": [
    "def pipeline_summarize(self, input_text, summarizer='t5'):\n",
    "    \"\"\"Summarization step in pipeline.\"\"\"\n",
    "    if summarizer == 't5':\n",
    "        summary = generate_t5_summary(input_text)\n",
    "    elif summarizer == 'bart':\n",
    "        summary = generate_bart_summary(input_text)\n",
    "    elif summarizer == 'pegasus':\n",
    "        summary = generate_pegasus_summary(input_text)\n",
    "    else:\n",
    "        raise ValueError(\"Invalid summarizer. Choose 't5', 'bart', or 'pegasus'.\")\n",
    "    return summary, summarizer"
   ]
  },
  {
   "cell_type": "markdown",
   "metadata": {
    "id": "8MVOQYnp2mwE"
   },
   "source": [
    "#Pipeline Paraphrasing Step\n",
    "Paraphrase in pipeline with comparison."
   ]
  },
  {
   "cell_type": "code",
   "execution_count": null,
   "metadata": {
    "id": "OSbsDLhw2n2n"
   },
   "outputs": [],
   "source": [
    "def pipeline_paraphrase(self, input_text, paraphrase_sentences=2):\n",
    "    \"\"\"Paraphrasing step with comparison.\"\"\"\n",
    "    # Simple sentence splitting without NLTK\n",
    "    sentences = re.split(r'[.!?]+', input_text)[:paraphrase_sentences]\n",
    "    sentences = [s.strip() for s in sentences if s.strip()]\n",
    "    paraphrases = {}\n",
    "    for i, sent in enumerate(sentences):\n",
    "        key = f'Sentence {i+1}'\n",
    "        metrics = compare_paraphrasers_enhanced(sent)\n",
    "        paraphrases[key] = {'original': sent[:100] + \"...\", 'metrics': metrics}\n",
    "    return paraphrases"
   ]
  },
  {
   "cell_type": "markdown",
   "metadata": {
    "id": "FFJzYyAq2si1"
   },
   "source": [
    "#Pipeline Similarity Step\n",
    "Compute similarity in pipeline."
   ]
  },
  {
   "cell_type": "code",
   "execution_count": null,
   "metadata": {
    "id": "iiPPZrs12tnc"
   },
   "outputs": [],
   "source": [
    "def pipeline_similarity(self, input_text, top_k_similar=2):\n",
    "    \"\"\"Similarity step in pipeline.\"\"\"\n",
    "    if self.reference_texts:\n",
    "        similarities = [(i+1, compute_similarity(input_text[:2000], ref)) for i, ref in enumerate(self.reference_texts)]\n",
    "        similarities.sort(key=lambda x: x[1], reverse=True)\n",
    "        return similarities[:top_k_similar]\n",
    "    return []"
   ]
  },
  {
   "cell_type": "markdown",
   "metadata": {
    "id": "-s93VMWk2yYN"
   },
   "source": [
    "#Full Pipeline Process\n",
    "Run the full pipeline."
   ]
  },
  {
   "cell_type": "code",
   "execution_count": null,
   "metadata": {
    "id": "ph49unB52ze4"
   },
   "outputs": [],
   "source": [
    "def process(self, input_text, summarizer='t5', paraphrase_sentences=2, top_k_similar=2):\n",
    "    \"\"\"Run the full pipeline.\"\"\"\n",
    "    results = {}\n",
    "\n",
    "    summary, used_summarizer = pipeline_summarize(self, input_text, summarizer)\n",
    "    results['summary'] = summary\n",
    "    results['summarizer_used'] = used_summarizer\n",
    "\n",
    "    results['paraphrases'] = pipeline_paraphrase(self, input_text, paraphrase_sentences)\n",
    "\n",
    "    results['similarities'] = pipeline_similarity(self, input_text, top_k_similar)\n",
    "\n",
    "    return results\n",
    "\n",
    "# Bind methods to class\n",
    "TextMorphPipeline.pipeline_summarize = pipeline_summarize\n",
    "TextMorphPipeline.pipeline_paraphrase = pipeline_paraphrase\n",
    "TextMorphPipeline.pipeline_similarity = pipeline_similarity\n",
    "TextMorphPipeline.process = process\n",
    "\n",
    "# Initialize\n",
    "pipeline = TextMorphPipeline()"
   ]
  },
  {
   "cell_type": "markdown",
   "metadata": {
    "id": "mOoNLQYv2MNV"
   },
   "source": [
    "# Testing with Text Files\n",
    "#Add Reference Texts\n",
    "Add references for similarity."
   ]
  },
  {
   "cell_type": "code",
   "execution_count": null,
   "metadata": {
    "colab": {
     "base_uri": "https://localhost:8080/"
    },
    "id": "kHQMz9eP2OmH",
    "outputId": "f7fb34b5-fdb5-465b-8bea-a1c6de2f91b7"
   },
   "outputs": [
    {
     "name": "stdout",
     "output_type": "stream",
     "text": [
      "✅ Reference texts added.\n"
     ]
    }
   ],
   "source": [
    "pipeline.add_reference(\"Natural Language Processing powers modern AI applications.\")\n",
    "pipeline.add_reference(\"Machine learning enhances text analysis capabilities.\")\n",
    "print(\"✅ Reference texts added.\")"
   ]
  },
  {
   "cell_type": "markdown",
   "metadata": {
    "id": "ynldjtmS1rGX"
   },
   "source": [
    "# Visualization & Insights\n",
    "#Enhanced Summarization Metrics Plot\n",
    "Visualize T5 vs BART vs PEGASUS metrics."
   ]
  },
  {
   "cell_type": "code",
   "execution_count": null,
   "metadata": {
    "colab": {
     "base_uri": "https://localhost:8080/",
     "height": 997
    },
    "id": "Lrcki70G1tpX",
    "outputId": "750547af-9dde-42e1-f392-23e60748d67f"
   },
   "outputs": [
    {
     "data": {
      "image/png": "[encoded data removed]",
      "text/plain": [
       "<Figure size 1000x500 with 1 Axes>"
      ]
     },
     "metadata": {},
     "output_type": "display_data"
    },
    {
     "data": {
      "image/png": "[encoded data removed]",
      "text/plain": [
       "<Figure size 1000x500 with 1 Axes>"
      ]
     },
     "metadata": {},
     "output_type": "display_data"
    }
   ],
   "source": [
    "import matplotlib.pyplot as plt\n",
    "import numpy as np\n",
    "\n",
    "# Example: list of your text files\n",
    "file_paths = [\"input1.txt\", \"input2.txt\"]\n",
    "\n",
    "# Loop over each file\n",
    "for file_path in file_paths:\n",
    "    # Read the text\n",
    "    with open(file_path, \"r\", encoding=\"utf-8\") as f:\n",
    "        text = f.read()\n",
    "\n",
    "    # Simulate metric generation for demonstration purposes\n",
    "    # Replace this with your actual summarization metric function\n",
    "    metrics = {\n",
    "        \"T5\": {\"length\": len(text.split()) * 0.3, \"similarity\": np.random.uniform(0.7, 0.95)},\n",
    "        \"BART\": {\"length\": len(text.split()) * 0.35, \"similarity\": np.random.uniform(0.65, 0.9)},\n",
    "        \"PEGASUS\": {\"length\": len(text.split()) * 0.32, \"similarity\": np.random.uniform(0.68, 0.92)}\n",
    "    }\n",
    "\n",
    "    models = list(metrics.keys())\n",
    "    lengths = [metrics[m][\"length\"] for m in models]\n",
    "    similarities = [metrics[m][\"similarity\"] for m in models]\n",
    "\n",
    "    # Bar chart positions\n",
    "    x = np.arange(len(models))\n",
    "    width = 0.35\n",
    "\n",
    "    # Create figure\n",
    "    fig, ax = plt.subplots(figsize=(10, 5))\n",
    "\n",
    "    # Plot bars\n",
    "    bars1 = ax.bar(x - width/2, lengths, width, label=\"Summary Length\", color=\"teal\")\n",
    "    bars2 = ax.bar(x + width/2, similarities, width, label=\"Similarity to Original\", color=\"orange\")\n",
    "\n",
    "    # Labels and title\n",
    "    ax.set_xticks(x)\n",
    "    ax.set_xticklabels(models)\n",
    "    ax.set_ylabel(\"Metric Value\")\n",
    "    ax.set_title(f\"Summarization Metrics for {file_path}\")\n",
    "    ax.legend()\n",
    "\n",
    "    # Annotate bars with values\n",
    "    for bar in bars1 + bars2:\n",
    "        height = bar.get_height()\n",
    "        ax.annotate(f\"{height:.2f}\",\n",
    "                    xy=(bar.get_x() + bar.get_width() / 2, height),\n",
    "                    xytext=(0, 3),\n",
    "                    textcoords=\"offset points\",\n",
    "                    ha=\"center\", va=\"bottom\")\n",
    "\n",
    "    plt.tight_layout()\n",
    "    plt.show()\n",
    "\n",
    "\n",
    "\n",
    "\n"
   ]
  },
  {
   "cell_type": "markdown",
   "metadata": {
    "id": "KRJEkIye6zan"
   },
   "source": [
    "#Enhanced Paraphrasing Metrics Plot\n",
    "Visualize PEGASUS vs T5-Paraphrase vs BART-Paraphrase metrics."
   ]
  },
  {
   "cell_type": "code",
   "execution_count": null,
   "metadata": {
    "colab": {
     "base_uri": "https://localhost:8080/",
     "height": 997
    },
    "id": "ua0z5WaS6bHC",
    "outputId": "2b2b00e9-d70e-4f9b-ccc5-5fa5d18b11fc"
   },
   "outputs": [
    {
     "data": {
      "image/png": "[encoded data removed]",
      "text/plain": [
       "<Figure size 1000x500 with 1 Axes>"
      ]
     },
     "metadata": {},
     "output_type": "display_data"
    },
    {
     "data": {
      "image/png": "[encoded data removed]",
      "text/plain": [
       "<Figure size 1000x500 with 1 Axes>"
      ]
     },
     "metadata": {},
     "output_type": "display_data"
    }
   ],
   "source": [
    "import matplotlib.pyplot as plt\n",
    "import numpy as np\n",
    "\n",
    "# List of your text files\n",
    "file_paths = [\"input1.txt\", \"input2.txt\"]  # add more files\n",
    "\n",
    "# Number of paraphrases to generate per text\n",
    "num_paraphrases = 4\n",
    "\n",
    "for file_path in file_paths:\n",
    "    # Read the text\n",
    "    with open(file_path, \"r\", encoding=\"utf-8\") as f:\n",
    "        text = f.read()\n",
    "\n",
    "    # Generate paraphrases (replace with your actual paraphrasing function)\n",
    "    paraphrases = generate_paraphrases(text, num_return=num_paraphrases)\n",
    "\n",
    "    # Calculate metrics for visualization\n",
    "    lengths = [len(p.split()) for p in paraphrases]               # length of each paraphrase\n",
    "    similarities = [np.random.uniform(0.6, 0.95) for _ in paraphrases]  # placeholder similarity scores\n",
    "\n",
    "    x = np.arange(len(paraphrases))  # positions\n",
    "    width = 0.35\n",
    "\n",
    "    # Plot\n",
    "    fig, ax = plt.subplots(figsize=(10, 5))\n",
    "    bars1 = ax.bar(x - width/2, lengths, width, label=\"Paraphrase Length\", color=\"skyblue\")\n",
    "    bars2 = ax.bar(x + width/2, similarities, width, label=\"Similarity to Original\", color=\"salmon\")\n",
    "\n",
    "    # Labels and title\n",
    "    ax.set_xticks(x)\n",
    "    ax.set_xticklabels([f\"P{i+1}\" for i in range(num_paraphrases)])\n",
    "    ax.set_ylabel(\"Metric Value\")\n",
    "    ax.set_title(f\"Paraphrasing Metrics - {file_path}\")\n",
    "    ax.legend()\n",
    "\n",
    "    # Annotate bars with values\n",
    "    for bar in bars1 + bars2:\n",
    "        height = bar.get_height()\n",
    "        ax.annotate(f\"{height:.2f}\",\n",
    "                    xy=(bar.get_x() + bar.get_width() / 2, height),\n",
    "                    xytext=(0, 3),\n",
    "                    textcoords=\"offset points\",\n",
    "                    ha=\"center\", va=\"bottom\")\n",
    "\n",
    "    plt.tight_layout()\n",
    "    plt.show()\n"
   ]
  }
 ],
 "metadata": {
  "colab": {
   "provenance": []
  },
  "kernelspec": {
   "display_name": "Python 3",
   "name": "python3"
  }
 },
 "nbformat": 4,
 "nbformat_minor": 0
}
